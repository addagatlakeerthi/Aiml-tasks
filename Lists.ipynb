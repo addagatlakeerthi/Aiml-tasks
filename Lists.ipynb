{
 "cells": [
  {
   "cell_type": "code",
   "execution_count": 21,
   "id": "666e43a7-9db9-4169-9505-7b96cc0b588c",
   "metadata": {},
   "outputs": [],
   "source": [
    "L1=[]\n",
    "L2=[]\n",
    "for x in L:\n",
    "    if x%2 == 0:\n",
    "        L1.append(x)\n",
    "    else:\n",
    "        L2.append(x)\n",
    "        "
   ]
  },
  {
   "cell_type": "code",
   "execution_count": 19,
   "id": "b3775da8-bd21-42c2-8892-72964a93a130",
   "metadata": {},
   "outputs": [],
   "source": [
    "L = [100, 50, 193, 443, 253, 53, 1000]"
   ]
  },
  {
   "cell_type": "code",
   "execution_count": 23,
   "id": "9d720b55-c486-4751-9718-6e49bad09bbf",
   "metadata": {},
   "outputs": [
    {
     "data": {
      "text/plain": [
       "[100, 50, 1000]"
      ]
     },
     "execution_count": 23,
     "metadata": {},
     "output_type": "execute_result"
    }
   ],
   "source": [
    "L1\n"
   ]
  },
  {
   "cell_type": "code",
   "execution_count": 25,
   "id": "3297fd15-373b-4646-ba5b-e7b4ec9d26d5",
   "metadata": {},
   "outputs": [
    {
     "data": {
      "text/plain": [
       "[193, 443, 253, 53]"
      ]
     },
     "execution_count": 25,
     "metadata": {},
     "output_type": "execute_result"
    }
   ],
   "source": [
    "L2\n"
   ]
  },
  {
   "cell_type": "code",
   "execution_count": null,
   "id": "bf404be6-76f8-4411-9d0f-e62cb0f7a1af",
   "metadata": {},
   "outputs": [],
   "source": [
    "L = [\"A\",\"100\",\"B\",20.5,True,6+8j]\n",
    "L1=[\"A\",\"B\"]\n",
    "L2=[100,2.5]\n",
    "L3=[True]\n",
    "L4=[6+8j]"
   ]
  },
  {
   "cell_type": "code",
   "execution_count": null,
   "id": "a48bf21f-35e8-4ec2-81db-537afcc97d87",
   "metadata": {},
   "outputs": [],
   "source": [
    "L = [\"A\",\"100\",\"B\",20.5,True,6+8j]"
   ]
  },
  {
   "cell_type": "code",
   "execution_count": 27,
   "id": "bc3e0ab8-f9e1-427b-bd77-4bfc81c86300",
   "metadata": {},
   "outputs": [
    {
     "name": "stdout",
     "output_type": "stream",
     "text": [
      "[100, 50, 193, 443, 253, 53, 1000]\n"
     ]
    }
   ],
   "source": [
    "L1=[]\n",
    "L2=[]\n",
    "L3=[]\n",
    "L4=[]\n",
    "for x in L:\n",
    "    if type(x) == int or float:\n",
    "        L1.append(x)\n",
    "print (L1)\n",
    "    "
   ]
  },
  {
   "cell_type": "code",
   "execution_count": 40,
   "id": "84eaa3fe-4e17-4276-850e-bcfab86947ee",
   "metadata": {},
   "outputs": [
    {
     "name": "stdout",
     "output_type": "stream",
     "text": [
      "[100, 50, 193, 443, 253, 53, 1000]\n"
     ]
    }
   ],
   "source": [
    "L1=[]\n",
    "L2=[]\n",
    "L3=[]\n",
    "L4=[]\n",
    "for x in L:\n",
    "    if type(x) == int:\n",
    "        L3.append(x)\n",
    "    elif type(x) == float:\n",
    "        L4.append(x)\n",
    "print (L3)"
   ]
  },
  {
   "cell_type": "code",
   "execution_count": 1,
   "id": "a353ed51-0f26-40f4-b41b-87a4efd0af1d",
   "metadata": {},
   "outputs": [
    {
     "name": "stdout",
     "output_type": "stream",
     "text": [
      "20\n",
      "[20, 30]\n",
      "[20, 30, 40, 50]\n",
      "[10, 20, 30]\n",
      "[10, 20, 30, 40, 50]\n"
     ]
    }
   ],
   "source": [
    "my_list = [10,20,30,40,50]\n",
    "print(my_list[1])\n",
    "print(my_list[1:3])\n",
    "print(my_list[1:])\n",
    "print(my_list[:3])\n",
    "print(my_list[:])"
   ]
  },
  {
   "cell_type": "code",
   "execution_count": 3,
   "id": "4410ddee-7e07-45fc-b4c5-dcdf0c61bae7",
   "metadata": {},
   "outputs": [
    {
     "name": "stdout",
     "output_type": "stream",
     "text": [
      "30\n",
      "60\n",
      "90\n",
      "120\n"
     ]
    }
   ],
   "source": [
    "my_list=[10,20,30,40]\n",
    "for item in my_list:\n",
    "    print(3*item)\n"
   ]
  },
  {
   "cell_type": "code",
   "execution_count": 19,
   "id": "0b94fd02-de0c-4854-a508-37c4b84747a2",
   "metadata": {},
   "outputs": [
    {
     "name": "stdout",
     "output_type": "stream",
     "text": [
      "30\n",
      "60\n",
      "90\n",
      "120\n"
     ]
    }
   ],
   "source": [
    "for x in range(len(my_list)):\n",
    "    print(3* my_list[x])"
   ]
  },
  {
   "cell_type": "code",
   "execution_count": 29,
   "id": "18ebf353-b667-4583-9fcb-d041fcdc6401",
   "metadata": {},
   "outputs": [
    {
     "data": {
      "text/plain": [
       "[[1, 2], [3, 4], [5, 6]]"
      ]
     },
     "execution_count": 29,
     "metadata": {},
     "output_type": "execute_result"
    }
   ],
   "source": [
    "nested_list = [[1,2],[3,4],[5,6]]\n",
    "nested_list"
   ]
  },
  {
   "cell_type": "code",
   "execution_count": 31,
   "id": "c4e3188f-526f-4145-b0f6-59464e9ce4db",
   "metadata": {},
   "outputs": [
    {
     "data": {
      "text/plain": [
       "['__add__',\n",
       " '__class__',\n",
       " '__class_getitem__',\n",
       " '__contains__',\n",
       " '__delattr__',\n",
       " '__delitem__',\n",
       " '__dir__',\n",
       " '__doc__',\n",
       " '__eq__',\n",
       " '__format__',\n",
       " '__ge__',\n",
       " '__getattribute__',\n",
       " '__getitem__',\n",
       " '__getstate__',\n",
       " '__gt__',\n",
       " '__hash__',\n",
       " '__iadd__',\n",
       " '__imul__',\n",
       " '__init__',\n",
       " '__init_subclass__',\n",
       " '__iter__',\n",
       " '__le__',\n",
       " '__len__',\n",
       " '__lt__',\n",
       " '__mul__',\n",
       " '__ne__',\n",
       " '__new__',\n",
       " '__reduce__',\n",
       " '__reduce_ex__',\n",
       " '__repr__',\n",
       " '__reversed__',\n",
       " '__rmul__',\n",
       " '__setattr__',\n",
       " '__setitem__',\n",
       " '__sizeof__',\n",
       " '__str__',\n",
       " '__subclasshook__',\n",
       " 'append',\n",
       " 'clear',\n",
       " 'copy',\n",
       " 'count',\n",
       " 'extend',\n",
       " 'index',\n",
       " 'insert',\n",
       " 'pop',\n",
       " 'remove',\n",
       " 'reverse',\n",
       " 'sort']"
      ]
     },
     "execution_count": 31,
     "metadata": {},
     "output_type": "execute_result"
    }
   ],
   "source": [
    "dir(list)"
   ]
  },
  {
   "cell_type": "code",
   "execution_count": 33,
   "id": "8e4dbb6f-520e-4658-88ad-5f5e804d84f8",
   "metadata": {},
   "outputs": [
    {
     "data": {
      "text/plain": [
       "[['apple', 10], ['banana', 5], ['cherry', 7], ['banana', 5]]"
      ]
     },
     "execution_count": 33,
     "metadata": {},
     "output_type": "execute_result"
    }
   ],
   "source": [
    "orders = [[\"apple\",10], [\"banana\",5], [\"cherry\", 7], [\"banana\",5]]\n",
    "orders"
   ]
  },
  {
   "cell_type": "code",
   "execution_count": 35,
   "id": "b0bdedae-b6f5-4675-8e2b-8515e214c37b",
   "metadata": {},
   "outputs": [
    {
     "data": {
      "text/plain": [
       "[['apple', 10], ['banana', 5], ['cherry', 7], ['banana', 5], ['date', 12]]"
      ]
     },
     "execution_count": 35,
     "metadata": {},
     "output_type": "execute_result"
    }
   ],
   "source": [
    "new_order1 = [\"date\", 12]\n",
    "orders.append(new_order1)\n",
    "orders"
   ]
  },
  {
   "cell_type": "code",
   "execution_count": 37,
   "id": "832c66a9-b809-464b-a65b-f3fe6eb2e9e6",
   "metadata": {},
   "outputs": [],
   "source": [
    "new_orders = [[\"grape\",9],[\"apple\",20]]\n",
    "orders.extend(new_orders)"
   ]
  },
  {
   "cell_type": "code",
   "execution_count": 41,
   "id": "35c0c98d-4e5c-4507-93e9-ce9172e324b7",
   "metadata": {},
   "outputs": [
    {
     "data": {
      "text/plain": [
       "[['apple', 10],\n",
       " ['banana', 5],\n",
       " ['cherry', 7],\n",
       " ['banana', 5],\n",
       " ['date', 12],\n",
       " ['grape', 9],\n",
       " ['apple', 20]]"
      ]
     },
     "execution_count": 41,
     "metadata": {},
     "output_type": "execute_result"
    }
   ],
   "source": [
    "orders"
   ]
  },
  {
   "cell_type": "code",
   "execution_count": 45,
   "id": "52db9603-5bb7-48ce-92f7-e6d1bf0b86d8",
   "metadata": {},
   "outputs": [
    {
     "data": {
      "text/plain": [
       "[['apple', 10],\n",
       " ['banana', 5],\n",
       " ['cherry', 7],\n",
       " ['dragon', 9],\n",
       " ['dragon', 9],\n",
       " ['banana', 5],\n",
       " ['date', 12],\n",
       " ['grape', 9],\n",
       " ['apple', 20]]"
      ]
     },
     "execution_count": 45,
     "metadata": {},
     "output_type": "execute_result"
    }
   ],
   "source": [
    "new_order2 = [\"dragon\",9]\n",
    "orders.insert(3,new_order2)\n",
    "orders"
   ]
  },
  {
   "cell_type": "code",
   "execution_count": 47,
   "id": "682abd6f-70c6-4d87-9295-35e5274b8723",
   "metadata": {},
   "outputs": [
    {
     "data": {
      "text/plain": [
       "['dragon', 9]"
      ]
     },
     "execution_count": 47,
     "metadata": {},
     "output_type": "execute_result"
    }
   ],
   "source": [
    "duplicate_order = [\"banana\", 5]\n",
    "orders.pop(4)"
   ]
  },
  {
   "cell_type": "code",
   "execution_count": 9,
   "id": "5e47dcbe-ba2c-4f69-a0ae-8cba47d346a6",
   "metadata": {},
   "outputs": [
    {
     "name": "stdout",
     "output_type": "stream",
     "text": [
      "[['apple', 10], ['banana', 5], ['cheery', 10]]\n"
     ]
    }
   ],
   "source": [
    "orders = [['apple', 10],['banana',5],['cheery',12]]\n",
    "for each in orders:\n",
    "    if each [0] == \"cheery\":\n",
    "        each[1] = 10\n",
    "print(orders)"
   ]
  },
  {
   "cell_type": "code",
   "execution_count": 31,
   "id": "b554af5a-3133-4d0d-ad1b-26c66f916bff",
   "metadata": {},
   "outputs": [
    {
     "ename": "SyntaxError",
     "evalue": "incomplete input (2743985720.py, line 15)",
     "output_type": "error",
     "traceback": [
      "\u001b[1;36m  Cell \u001b[1;32mIn[31], line 15\u001b[1;36m\u001b[0m\n\u001b[1;33m    print(sum(apple_orders)\u001b[0m\n\u001b[1;37m                           ^\u001b[0m\n\u001b[1;31mSyntaxError\u001b[0m\u001b[1;31m:\u001b[0m incomplete input\n"
     ]
    }
   ],
   "source": [
    "apple_orders= []\n",
    "for each in orders:\n",
    "    if each[0] == \"apple\":\n",
    "        apple_orders.append(each[1])\n",
    "print(apple_orders)\n",
    "print(sum(apple_orders)"
   ]
  },
  {
   "cell_type": "code",
   "execution_count": 37,
   "id": "6b0b95c4-9f57-4041-ba69-3aecfdbc573a",
   "metadata": {},
   "outputs": [
    {
     "ename": "SyntaxError",
     "evalue": "incomplete input (473257906.py, line 15)",
     "output_type": "error",
     "traceback": [
      "\u001b[1;36m  Cell \u001b[1;32mIn[37], line 15\u001b[1;36m\u001b[0m\n\u001b[1;33m    print(sum(apple_orders)\u001b[0m\n\u001b[1;37m                           ^\u001b[0m\n\u001b[1;31mSyntaxError\u001b[0m\u001b[1;31m:\u001b[0m incomplete input\n"
     ]
    }
   ],
   "source": [
    "orders = [['apple', 10],\n",
    " ['banana', 5],\n",
    " ['cherry', 7],\n",
    " ['dragon', 9],\n",
    " ['dragon', 9],\n",
    " ['banana', 5],\n",
    " ['date', 12],\n",
    " ['grape', 9],\n",
    " ['apple', 20]]\n",
    "apple_orders= []\n",
    "for each in orders:\n",
    "    if each[0] == \"apple\":\n",
    "        apple_orders.append(each[1])\n",
    "print(apple_orders)\n",
    "print(sum(apple_orders)"
   ]
  },
  {
   "cell_type": "code",
   "execution_count": 39,
   "id": "3fd52352-f839-4d29-980f-d42919b8be17",
   "metadata": {},
   "outputs": [
    {
     "name": "stdout",
     "output_type": "stream",
     "text": [
      "([3, 4, 5], [1, 2, 3], 'Hello', 200)\n"
     ]
    }
   ],
   "source": [
    "tup1 = (1,2,3,5,7,10)\n",
    "tup4 = ([3,4,5],[1,2,3],\"Hello\",200)\n",
    "print(tup4)"
   ]
  },
  {
   "cell_type": "code",
   "execution_count": 41,
   "id": "87c159bc-bbaf-4b30-adce-d2014b337d9d",
   "metadata": {},
   "outputs": [
    {
     "data": {
      "text/plain": [
       "([3, 4, 10], [1, 2, 3], 'Hello', 200)"
      ]
     },
     "execution_count": 41,
     "metadata": {},
     "output_type": "execute_result"
    }
   ],
   "source": [
    "tup4[0][2] = 10\n",
    "tup4"
   ]
  },
  {
   "cell_type": "code",
   "execution_count": 51,
   "id": "274a5cce-655a-4b97-8d98-22fcf8a5fc4b",
   "metadata": {},
   "outputs": [
    {
     "data": {
      "text/plain": [
       "5"
      ]
     },
     "execution_count": 51,
     "metadata": {},
     "output_type": "execute_result"
    }
   ],
   "source": [
    "# tuple to count\n",
    "tup5=(10,20,1,10,34,88,10,10,10)\n",
    "tup5.count(10)"
   ]
  },
  {
   "cell_type": "code",
   "execution_count": 1,
   "id": "c3989f8f-f335-4239-8fad-2917d7c06ba7",
   "metadata": {},
   "outputs": [
    {
     "name": "stdout",
     "output_type": "stream",
     "text": [
      "{'a': 1, 'b': 2, 'C': 3}\n"
     ]
    }
   ],
   "source": [
    "d1 = {\"a\":1, \"b\":2, \"C\":3}\n",
    "print(d1)"
   ]
  },
  {
   "cell_type": "code",
   "execution_count": 3,
   "id": "1d0dc5f7-2a66-4940-820e-599f5a7d54e6",
   "metadata": {},
   "outputs": [
    {
     "name": "stdout",
     "output_type": "stream",
     "text": [
      "{'A': 10, 'B': 20, 'C': 30}\n"
     ]
    }
   ],
   "source": [
    "d2 = dict(A=10,B=20,C=30)\n",
    "print(d2)"
   ]
  },
  {
   "cell_type": "code",
   "execution_count": 5,
   "id": "c77eb1d1-970b-45f6-8f7a-ea4689bc28b5",
   "metadata": {},
   "outputs": [
    {
     "name": "stdout",
     "output_type": "stream",
     "text": [
      "{'x': 1, 'y': 2, 'z': 3}\n"
     ]
    }
   ],
   "source": [
    "d3 = dict([(\"x\", 1),(\"y\", 2),(\"z\",3)])\n",
    "print(d3)"
   ]
  },
  {
   "cell_type": "code",
   "execution_count": 7,
   "id": "6fd8925a-d34d-4267-bb13-a7eb2f61fef9",
   "metadata": {},
   "outputs": [
    {
     "name": "stdout",
     "output_type": "stream",
     "text": [
      "dict_keys(['a', 'b', 'C'])\n",
      "dict_values([1, 2, 3])\n",
      "dict_items([('a', 1), ('b', 2), ('C', 3)])\n"
     ]
    }
   ],
   "source": [
    "print(d1.keys())\n",
    "print(d1.values())\n",
    "print(d1.items())\n"
   ]
  },
  {
   "cell_type": "code",
   "execution_count": 9,
   "id": "b8994909-389d-4254-ba1e-b8b208d69470",
   "metadata": {},
   "outputs": [
    {
     "data": {
      "text/plain": [
       "['__class__',\n",
       " '__class_getitem__',\n",
       " '__contains__',\n",
       " '__delattr__',\n",
       " '__delitem__',\n",
       " '__dir__',\n",
       " '__doc__',\n",
       " '__eq__',\n",
       " '__format__',\n",
       " '__ge__',\n",
       " '__getattribute__',\n",
       " '__getitem__',\n",
       " '__getstate__',\n",
       " '__gt__',\n",
       " '__hash__',\n",
       " '__init__',\n",
       " '__init_subclass__',\n",
       " '__ior__',\n",
       " '__iter__',\n",
       " '__le__',\n",
       " '__len__',\n",
       " '__lt__',\n",
       " '__ne__',\n",
       " '__new__',\n",
       " '__or__',\n",
       " '__reduce__',\n",
       " '__reduce_ex__',\n",
       " '__repr__',\n",
       " '__reversed__',\n",
       " '__ror__',\n",
       " '__setattr__',\n",
       " '__setitem__',\n",
       " '__sizeof__',\n",
       " '__str__',\n",
       " '__subclasshook__',\n",
       " 'clear',\n",
       " 'copy',\n",
       " 'fromkeys',\n",
       " 'get',\n",
       " 'items',\n",
       " 'keys',\n",
       " 'pop',\n",
       " 'popitem',\n",
       " 'setdefault',\n",
       " 'update',\n",
       " 'values']"
      ]
     },
     "execution_count": 9,
     "metadata": {},
     "output_type": "execute_result"
    }
   ],
   "source": [
    "dir(dict)"
   ]
  },
  {
   "cell_type": "code",
   "execution_count": 15,
   "id": "b94a1287-fc64-4859-8db8-b049431fc518",
   "metadata": {},
   "outputs": [
    {
     "data": {
      "text/plain": [
       "{'Virat': 90, 'rohit': 100, 'rahul': 59, 'Hardit': 22}"
      ]
     },
     "execution_count": 15,
     "metadata": {},
     "output_type": "execute_result"
    }
   ],
   "source": [
    "scores={'Virat':90,'rohit':100,'rahul':59,'Hardit':22}\n",
    "scores"
   ]
  },
  {
   "cell_type": "code",
   "execution_count": 17,
   "id": "a245d521-59a2-47f2-a32c-e2e1b9bf133e",
   "metadata": {},
   "outputs": [
    {
     "data": {
      "text/plain": [
       "{'Virat': 90, 'rohit': 100, 'rahul': 59, 'Hardit': 23}"
      ]
     },
     "execution_count": 17,
     "metadata": {},
     "output_type": "execute_result"
    }
   ],
   "source": [
    "scores[\"Hardit\"]=23\n",
    "scores"
   ]
  },
  {
   "cell_type": "code",
   "execution_count": 19,
   "id": "fc38a3c5-4a93-4664-8af6-c0bbe09359cc",
   "metadata": {},
   "outputs": [
    {
     "data": {
      "text/plain": [
       "{'Virat': 90, 'rohit': 100, 'rahul': 59, 'Hardit': 23, 'keerthi': 90}"
      ]
     },
     "execution_count": 19,
     "metadata": {},
     "output_type": "execute_result"
    }
   ],
   "source": [
    "#update()method\n",
    "scores.update({\"keerthi\":90})\n",
    "scores"
   ]
  },
  {
   "cell_type": "code",
   "execution_count": 21,
   "id": "2e0c3885-73ca-4902-88ab-5882972cda90",
   "metadata": {},
   "outputs": [
    {
     "data": {
      "text/plain": [
       "{'Virat': 90,\n",
       " 'rohit': 100,\n",
       " 'rahul': 59,\n",
       " 'Hardit': 23,\n",
       " 'keerthi': 90,\n",
       " 'hardit': 39}"
      ]
     },
     "execution_count": 21,
     "metadata": {},
     "output_type": "execute_result"
    }
   ],
   "source": [
    "scores.update({\"hardit\":39, \"keerthi\":90})\n",
    "scores"
   ]
  },
  {
   "cell_type": "code",
   "execution_count": 23,
   "id": "e16e5733-7310-482b-a57a-a4bcab52859d",
   "metadata": {},
   "outputs": [
    {
     "data": {
      "text/plain": [
       "{'Virat': 90,\n",
       " 'rohit': 100,\n",
       " 'rahul': 59,\n",
       " 'Hardit': 23,\n",
       " 'keerthi': 90,\n",
       " 'hardit': 39}"
      ]
     },
     "execution_count": 23,
     "metadata": {},
     "output_type": "execute_result"
    }
   ],
   "source": [
    "scores.setdefault(\"keerthi\",100)\n",
    "scores"
   ]
  },
  {
   "cell_type": "code",
   "execution_count": 25,
   "id": "de82299e-fc7d-48e6-ba8d-ab129924188e",
   "metadata": {},
   "outputs": [
    {
     "data": {
      "text/plain": [
       "{'Virat': 90,\n",
       " 'rohit': 100,\n",
       " 'rahul': 59,\n",
       " 'Hardit': 23,\n",
       " 'keerthi': 90,\n",
       " 'hardit': 39,\n",
       " 'Siri': 98}"
      ]
     },
     "execution_count": 25,
     "metadata": {},
     "output_type": "execute_result"
    }
   ],
   "source": [
    "scores.setdefault(\"Siri\",98)\n",
    "scores"
   ]
  },
  {
   "cell_type": "code",
   "execution_count": 27,
   "id": "eac80095-4d4f-4d79-a5d5-a3f73edb0ba7",
   "metadata": {},
   "outputs": [
    {
     "data": {
      "text/plain": [
       "{'Virat': 90,\n",
       " 'rohit': 100,\n",
       " 'rahul': 59,\n",
       " 'Hardit': 23,\n",
       " 'keerthi': 90,\n",
       " 'hardit': 39}"
      ]
     },
     "execution_count": 27,
     "metadata": {},
     "output_type": "execute_result"
    }
   ],
   "source": [
    "#Remove\n",
    "scores.popitem()\n",
    "scores"
   ]
  },
  {
   "cell_type": "code",
   "execution_count": 29,
   "id": "847ac4e4-c3ab-490b-8a3f-6b8cc2331727",
   "metadata": {},
   "outputs": [
    {
     "data": {
      "text/plain": [
       "{'Virat': 90, 'rahul': 59, 'Hardit': 23, 'keerthi': 90, 'hardit': 39}"
      ]
     },
     "execution_count": 29,
     "metadata": {},
     "output_type": "execute_result"
    }
   ],
   "source": [
    "scores.pop(\"rohit\")\n",
    "scores"
   ]
  },
  {
   "cell_type": "code",
   "execution_count": 31,
   "id": "fa439d63-28a6-496a-9045-0b0fa904d043",
   "metadata": {},
   "outputs": [
    {
     "data": {
      "text/plain": [
       "59"
      ]
     },
     "execution_count": 31,
     "metadata": {},
     "output_type": "execute_result"
    }
   ],
   "source": [
    "scores.get(\"rahul\")\n"
   ]
  },
  {
   "cell_type": "code",
   "execution_count": 47,
   "id": "597037f9-a3ff-4642-aaa3-404c9fe7e138",
   "metadata": {},
   "outputs": [
    {
     "data": {
      "text/plain": [
       "{'A': None, 'B': None, 'C': None, 'D': None}"
      ]
     },
     "execution_count": 47,
     "metadata": {},
     "output_type": "execute_result"
    }
   ],
   "source": [
    "#fromkeys()\n",
    "list1 = [\"A\",\"B\",\"C\",\"D\"]\n",
    "my_dict = dict.fromkeys(list1)\n",
    "my_dict"
   ]
  },
  {
   "cell_type": "code",
   "execution_count": 49,
   "id": "3429710e-72d0-4675-a539-b63da029faf7",
   "metadata": {},
   "outputs": [
    {
     "data": {
      "text/plain": [
       "{'A': 10, 'B': 20, 'C': None, 'D': None}"
      ]
     },
     "execution_count": 49,
     "metadata": {},
     "output_type": "execute_result"
    }
   ],
   "source": [
    "my_dict.update({\"A\":10,\"B\":20})\n",
    "my_dict"
   ]
  },
  {
   "cell_type": "code",
   "execution_count": 51,
   "id": "c8063d2e-2bbb-4568-bcf5-7cf525c0b69e",
   "metadata": {},
   "outputs": [
    {
     "data": {
      "text/plain": [
       "{'A': 10, 'B': 20, 'C': 90, 'D': 200}"
      ]
     },
     "execution_count": 51,
     "metadata": {},
     "output_type": "execute_result"
    }
   ],
   "source": [
    "my_dict.update({\"C\":90,\"D\":200})\n",
    "my_dict"
   ]
  },
  {
   "cell_type": "code",
   "execution_count": null,
   "id": "0c9109e8-d4ef-480f-b9f4-4dd4afdd3d55",
   "metadata": {},
   "outputs": [],
   "source": []
  },
  {
   "cell_type": "code",
   "execution_count": null,
   "id": "bbc75259-4011-4750-8314-57e9926ee5d6",
   "metadata": {},
   "outputs": [],
   "source": []
  }
 ],
 "metadata": {
  "kernelspec": {
   "display_name": "Python [conda env:base] *",
   "language": "python",
   "name": "conda-base-py"
  },
  "language_info": {
   "codemirror_mode": {
    "name": "ipython",
    "version": 3
   },
   "file_extension": ".py",
   "mimetype": "text/x-python",
   "name": "python",
   "nbconvert_exporter": "python",
   "pygments_lexer": "ipython3",
   "version": "3.12.7"
  }
 },
 "nbformat": 4,
 "nbformat_minor": 5
}
